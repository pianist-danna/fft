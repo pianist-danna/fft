{
 "cells": [
  {
   "cell_type": "markdown",
   "metadata": {},
   "source": [
    "## やりたいこと\n",
    "proto2020.pyのコードを改良して、起動時の初期値設定処理を実装\n",
    "そのテスト"
   ]
  },
  {
   "cell_type": "code",
   "execution_count": 1,
   "metadata": {},
   "outputs": [
    {
     "name": "stdout",
     "output_type": "stream",
     "text": [
      "Scipy version:1.5.2\n",
      "Pyaudio version:0.2.11\n",
      "Numpy version:1.19.2\n"
     ]
    }
   ],
   "source": [
    "\"\"\"\n",
    "リアルタイム・スペクトルアナライザー\n",
    "\"\"\"\n",
    "\n",
    "#%%\n",
    "# cording = UTF-8\n",
    "\n",
    "import os,configparser\n",
    "import scipy,pyaudio\n",
    "import numpy as np\n",
    "import matplotlib as plt\n",
    "from matplotlib.colors import LogNorm\n",
    "\n",
    "print (\"Scipy version:{0}\".format(scipy.__version__))\n",
    "print (\"Pyaudio version:{0}\".format(pyaudio.__version__))\n",
    "print (\"Numpy version:{0}\".format(np.__version__))\n",
    "\n",
    "###########################グローバル変数の初期値###########################\n",
    "base_dir = os.path.dirname(__file__)    #カレントディレクトリ\n",
    "\n",
    "a_index = None  #オーディオインデックス\n",
    "\n",
    "br = pyaudio.paInt16    #ビットレート\n",
    "sr = 44100  #サンプリングレート\n",
    "chunk = 1024  #ストリームサイズならびにFFTの窓幅\n"
   ]
  },
  {
   "cell_type": "code",
   "execution_count": 2,
   "metadata": {},
   "outputs": [],
   "source": [
    "class initial:\n",
    "    def __init__(self,base_dir,a_index,br,sr,chunk):\n",
    "        #グローバル変数の取り込み\n",
    "        self.base_dir = base_dir\n",
    "        self.a_index = a_index,\n",
    "        self.br = br\n",
    "        self.sr = sr\n",
    "        self.chunk = chunk\n",
    "        self.pa = pyaudio.PyAudio()\n",
    "\n",
    "    #オーディオインデックスの取得\n",
    "    def set_indexes(self):\n",
    "        print(\"***List of available audio devices:***\")\n",
    "        for i in range(self.pa.get_device_count()):\n",
    "            print(i,self.pa.get_device_info_by_index(i).get(\"name\"),sep = \" - \")\n",
    "        x = int(input(\"Select Audio device Index No.\"))\n",
    "        print(\"***Selected audio device #{0}.***\".format(x))\n",
    "        return x\n",
    "\n",
    "    #設定値の書き出し\n",
    "    def save_ini(self):\n",
    "        x = configparser.ConfigParser()\n",
    "\n",
    "        x[\"General\"] = {\n",
    "            \"base_dir\":self.base_dir\n",
    "        }\n",
    "\n",
    "        x[\"params\"] = {\n",
    "            \"br\":self.br,\n",
    "            \"sr\":self.sr,\n",
    "            \"chunk\":self.chunk\n",
    "        }\n",
    "\n",
    "        if self.a_index == None:\n",
    "            x[\"params\"][\"a_index\"] = \"\"\n",
    "        else:\n",
    "            x[\"params\"][\"a_index\"] = str(self.a_index)\n",
    "\n",
    "        with open(os.path.splitext(\n",
    "            os.path.basename(__file__))[0] + \".ini\",\"w\"\n",
    "        ) as cfgfile:\n",
    "            x.write(cfgfile)\n",
    "\n",
    "    #設定値の読み出し\n",
    "    def load_ini(self):\n",
    "        x = configparser.ConfigParser()\n",
    "        x.read(\n",
    "            os.path.join(\n",
    "                base_dir,str(\n",
    "                    os.path.splitext(\n",
    "                        os.path.basename(__file__)\n",
    "                        )[0] + \".ini\"\n",
    "                    )\n",
    "                )\n",
    "        )\n",
    "\n",
    "        #グローバル変数との区別の為全て頭に\"l_\"をつけて読みだす\n",
    "        l_base_dir = x.get(\"General\",\"base_dir\")\n",
    "        l_a_index = x.get(\"params\",\"a_index\")\n",
    "        if l_a_index ==\"\":\n",
    "            l_a_index = None\n",
    "        else:\n",
    "            l_a_index = int(l_a_index)\n",
    "        l_br = x.getint(\"params\",\"br\")\n",
    "        l_sr = x.getint(\"params\",\"sr\")\n",
    "        l_chunk = x.getint(\"params\",\"chunk\")\n",
    "\n",
    "        return l_base_dir,l_a_index,l_br,l_sr,l_chunk\n",
    "\n",
    "    #起動時処理\n",
    "    def bootup(self):\n",
    "        #iniファイルの有無判定 存在すればiniファイルから変数を読み出す\n",
    "        if os.path.exists(\n",
    "            os.path.join(\n",
    "                base_dir,str(\n",
    "                    os.path.splitext(\n",
    "                        os.path.basename(__file__)\n",
    "                        )[0] + \".ini\"\n",
    "                    )\n",
    "                )\n",
    "            ):\n",
    "            self.base_dir,self.a_index,self.br,self.sr,self.chunk = self.load_ini()\n",
    "            print(\"Loaded initial settings.\\n***Audio device #{0} - {1} is selected***\"\\\n",
    "            .format(self.a_index,self.pa.get_device_info_by_index(self.a_index)\\\n",
    "                .get(\"name\")))\n",
    "        else:\n",
    "            #オーディオインデックスを選択後、変数をiniファイルに格納する\n",
    "            self.a_index = self.set_indexes()\n",
    "            self.save_ini()\n",
    "            print(\n",
    "                \"Saved deffault settings:\" + os.path.splitext(\n",
    "                    os.path.basename(__file__)\n",
    "                    )[0] + \".ini\"\n",
    "            )\n",
    "        return self.base_dir,self.a_index,self.br,self.sr,self.chunk\n",
    "\n"
   ]
  },
  {
   "cell_type": "code",
   "execution_count": 3,
   "metadata": {},
   "outputs": [
    {
     "name": "stdout",
     "output_type": "stream",
     "text": [
      "***List of available audio devices:***\n",
      "0 - Microsoft Sound Mapper - Input\n",
      "1 - デスクトップ マイク (Microsoft® LifeCam \n",
      "2 - マイク配列 (Realtek(R) Audio)\n",
      "3 - Microsoft Sound Mapper - Output\n",
      "4 - SHARP HDMI (インテル(R) ディスプレイ用オーディ\n",
      "5 - Speakers (Realtek HD Audio output)\n",
      "6 - マイク配列 1 (Realtek HD Audio Mic input with SST)\n",
      "7 - マイク配列 2 (Realtek HD Audio Mic input with SST)\n",
      "8 - マイク配列 3 (Realtek HD Audio Mic input with SST)\n",
      "9 - Output (インテル(R) ディスプレイ用オーディオ - 出力 1)\n",
      "10 - デスクトップ マイク (Microsoft® LifeCam HD-3000)\n",
      "11 - ヘッドホン ()\n",
      "12 - ヘッドホン ()\n",
      "13 - ヘッドセット (@System32\\drivers\\bthhfenum.sys,#2;%1 Hands-Free AG Audio%0\n",
      ";(pianist_dannaのAirPods Pro))\n",
      "14 - ヘッドセット (@System32\\drivers\\bthhfenum.sys,#2;%1 Hands-Free AG Audio%0\n",
      ";(pianist_dannaのAirPods Pro))\n",
      "15 - ヘッドセット (@System32\\drivers\\bthhfenum.sys,#2;%1 Hands-Free AG Audio%0\n",
      ";(JAMBOX by Jawbone))\n",
      "16 - ヘッドセット (@System32\\drivers\\bthhfenum.sys,#2;%1 Hands-Free AG Audio%0\n",
      ";(JAMBOX by Jawbone))\n",
      "17 - Output (@System32\\drivers\\bthhfenum.sys,#4;%1 Hands-Free HF Audio%0\n",
      ";(Xperia 10))\n",
      "18 - Input (@System32\\drivers\\bthhfenum.sys,#4;%1 Hands-Free HF Audio%0\n",
      ";(Xperia 10))\n",
      "19 - ライン ()\n",
      "***Selected audio device #1.***\n",
      "Saved deffault settings:fft.ini\n"
     ]
    }
   ],
   "source": [
    "init = initial(base_dir,a_index,br,sr,chunk)\n",
    "base_dir,a_index,br,sr,chunk = init.bootup()"
   ]
  },
  {
   "cell_type": "markdown",
   "metadata": {},
   "source": [
    "オーディオインデックスが設定され、iniファイルへの保存成功  \n",
    "今回はカレントファイルの名前の変更に伴ってiniファイルの名前も動的に変わるようにした  \n",
    "  \n",
    "一度グローバル変数を消去後、再起動する"
   ]
  },
  {
   "cell_type": "code",
   "execution_count": 4,
   "metadata": {},
   "outputs": [],
   "source": [
    "del base_dir,a_index,br,sr,chunk"
   ]
  },
  {
   "cell_type": "code",
   "execution_count": 6,
   "metadata": {},
   "outputs": [
    {
     "name": "stdout",
     "output_type": "stream",
     "text": [
      "Scipy version:1.5.2\n",
      "Pyaudio version:0.2.11\n",
      "Numpy version:1.19.2\n"
     ]
    }
   ],
   "source": [
    "\"\"\"\n",
    "リアルタイム・スペクトルアナライザー\n",
    "\"\"\"\n",
    "\n",
    "#%%\n",
    "# cording = UTF-8\n",
    "\n",
    "import os,configparser\n",
    "import scipy,pyaudio\n",
    "import numpy as np\n",
    "import matplotlib as plt\n",
    "from matplotlib.colors import LogNorm\n",
    "\n",
    "print (\"Scipy version:{0}\".format(scipy.__version__))\n",
    "print (\"Pyaudio version:{0}\".format(pyaudio.__version__))\n",
    "print (\"Numpy version:{0}\".format(np.__version__))\n",
    "\n",
    "###########################グローバル変数の初期値###########################\n",
    "base_dir = os.path.dirname(__file__)    #カレントディレクトリ\n",
    "\n",
    "a_index = None  #オーディオインデックス\n",
    "\n",
    "br = pyaudio.paInt16    #ビットレート\n",
    "sr = 44100  #サンプリングレート\n",
    "chunk = 1024  #ストリームサイズならびにFFTの窓幅\n"
   ]
  },
  {
   "cell_type": "code",
   "execution_count": 7,
   "metadata": {},
   "outputs": [
    {
     "name": "stdout",
     "output_type": "stream",
     "text": [
      "Loaded initial settings.\n",
      "***Audio device #1 - デスクトップ マイク (Microsoft® LifeCam  is selected***\n"
     ]
    }
   ],
   "source": [
    "init = initial(base_dir,a_index,br,sr,chunk)\n",
    "base_dir,a_index,br,sr,chunk = init.bootup()"
   ]
  },
  {
   "cell_type": "markdown",
   "metadata": {},
   "source": [
    "生成されたiniファイルから設定値が読み出されている  \n",
    "(コード上の初期値は`a_index = None`だが、起動後は`a_index = 1`になっている  \n",
    "  \n",
    "## わかったこと\n",
    "- proto2020.pyではiniファイル操作と変数読み出しを別関数にしていたが、ここが分離することはない(多分)のでまとめ処理可能だった\n",
    "- 本格的にコンストラクタを使ったが、インスタンス化の際に面倒な分各メソッドはシンプルになった\n",
    "  \n",
    "## 次にやること\n",
    "- まずはウェーブフォームアニメーションの実装から 将来的に使わん可能性大だが…\n",
    "- 今回はクラス警鐘をあまり意識する必要はなさそう"
   ]
  },
  {
   "cell_type": "code",
   "execution_count": null,
   "metadata": {},
   "outputs": [],
   "source": []
  }
 ],
 "metadata": {
  "kernelspec": {
   "display_name": "Python 3",
   "language": "python",
   "name": "python3"
  },
  "language_info": {
   "codemirror_mode": {
    "name": "ipython",
    "version": 3
   },
   "file_extension": ".py",
   "mimetype": "text/x-python",
   "name": "python",
   "nbconvert_exporter": "python",
   "pygments_lexer": "ipython3",
   "version": "3.7.9"
  }
 },
 "nbformat": 4,
 "nbformat_minor": 2
}
